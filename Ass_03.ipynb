{
 "cells": [
  {
   "cell_type": "code",
   "execution_count": 5,
   "id": "e02caf0e-b44e-4c73-b18f-9264213732cb",
   "metadata": {},
   "outputs": [
    {
     "name": "stdout",
     "output_type": "stream",
     "text": [
      "(i) DataFrame from Series:\n"
     ]
    }
   ],
   "source": [
    "# (i) Creating a DataFrame from a Series\n",
    "import pandas as pd\n",
    "\n",
    "# Create a Series\n",
    "series_data = pd.Series([1, 2, 3, 4, 5], name='Column_Name')\n",
    "\n",
    "# Create a DataFrame from the Series\n",
    "df_from_series = pd.DataFrame(series_data)\n",
    "print(\"(i) DataFrame from Series:\")\n",
    "# print(series_data)\n"
   ]
  },
  {
   "cell_type": "code",
   "execution_count": 3,
   "id": "6a569bac-7cbe-4dea-a904-973cc03ab838",
   "metadata": {},
   "outputs": [
    {
     "name": "stdout",
     "output_type": "stream",
     "text": [
      "\n",
      "(ii) DataFrame from Dictionary:\n",
      "   Column1 Column2\n",
      "0        1       A\n",
      "1        2       B\n",
      "2        3       C\n"
     ]
    }
   ],
   "source": [
    "# (ii) Creating a DataFrame from a Dictionary\n",
    "# Create a Dictionary\n",
    "dict_data = {'Column1': [1, 2, 3], 'Column2': ['A', 'B', 'C']}\n",
    "\n",
    "# Create a DataFrame from the Dictionary\n",
    "df_from_dict = pd.DataFrame(dict_data)\n",
    "print(\"\\n(ii) DataFrame from Dictionary:\")\n",
    "print(df_from_dict)\n"
   ]
  },
  {
   "cell_type": "code",
   "execution_count": 8,
   "id": "a5abb2fc-4941-43fb-849d-3f661afb7c92",
   "metadata": {},
   "outputs": [
    {
     "name": "stdout",
     "output_type": "stream",
     "text": [
      "\n",
      "(iii) DataFrame from N-Dimensional Array:\n",
      "   Column1  Column2  Column3\n",
      "0        1        2        3\n",
      "1        4        5        6\n"
     ]
    }
   ],
   "source": [
    "# (iii) Creating a DataFrame from N-Dimensional Arrays\n",
    "import numpy as np\n",
    "\n",
    "# Create N-Dimensional Arrays\n",
    "array_data = np.array([[1, 2, 3], [4, 5, 6]])\n",
    "\n",
    "# Create a DataFrame from the N-Dimensional Array\n",
    "df_from_array = pd.DataFrame(array_data, columns=['Column1', 'Column2', 'Column3'])\n",
    "print(\"\\n(iii) DataFrame from N-Dimensional Array:\")\n",
    "print(df_from_array)\n"
   ]
  },
  {
   "cell_type": "code",
   "execution_count": 6,
   "id": "4274efca-f668-4666-8a83-5b84a171f1bf",
   "metadata": {},
   "outputs": [
    {
     "name": "stdout",
     "output_type": "stream",
     "text": [
      "\n",
      "(iv) DataFrame from External Source:\n",
      "     5.1  3.5  1.4  0.2     Iris-setosa\n",
      "0    4.9  3.0  1.4  0.2     Iris-setosa\n",
      "1    4.7  3.2  1.3  0.2     Iris-setosa\n",
      "2    4.6  3.1  1.5  0.2     Iris-setosa\n",
      "3    5.0  3.6  1.4  0.2     Iris-setosa\n",
      "4    5.4  3.9  1.7  0.4     Iris-setosa\n",
      "..   ...  ...  ...  ...             ...\n",
      "144  6.7  3.0  5.2  2.3  Iris-virginica\n",
      "145  6.3  2.5  5.0  1.9  Iris-virginica\n",
      "146  6.5  3.0  5.2  2.0  Iris-virginica\n",
      "147  6.2  3.4  5.4  2.3  Iris-virginica\n",
      "148  5.9  3.0  5.1  1.8  Iris-virginica\n",
      "\n",
      "[149 rows x 5 columns]\n"
     ]
    }
   ],
   "source": [
    "# (iv) Loading a Dataset from an External Source into a Pandas DataFrame\n",
    "# Load a dataset from an external source (e.g., CSV file)\n",
    "url = 'https://archive.ics.uci.edu/ml/machine-learning-databases/iris/iris.data'  # Replace with the actual URL or file path\n",
    "df_from_external_source = pd.read_csv(url)\n",
    "\n",
    "print(\"\\n(iv) DataFrame from External Source:\")\n",
    "print(df_from_external_source)\n"
   ]
  },
  {
   "cell_type": "code",
   "execution_count": null,
   "id": "27e015d5-da5f-4b3c-8c4c-960cb12b78af",
   "metadata": {},
   "outputs": [],
   "source": []
  }
 ],
 "metadata": {
  "kernelspec": {
   "display_name": "Python 3 (ipykernel)",
   "language": "python",
   "name": "python3"
  },
  "language_info": {
   "codemirror_mode": {
    "name": "ipython",
    "version": 3
   },
   "file_extension": ".py",
   "mimetype": "text/x-python",
   "name": "python",
   "nbconvert_exporter": "python",
   "pygments_lexer": "ipython3",
   "version": "3.10.8"
  }
 },
 "nbformat": 4,
 "nbformat_minor": 5
}
