{
 "cells": [
  {
   "cell_type": "code",
   "execution_count": 1,
   "id": "29a1aca2-d765-4638-a8ce-86d081af188f",
   "metadata": {},
   "outputs": [
    {
     "name": "stdout",
     "output_type": "stream",
     "text": [
      "1D Array:\n",
      "[1 2 3 4 5]\n",
      "Data Type: int64\n",
      "Shape: (5,)\n",
      "Size: 5\n",
      "Strides: (8,)\n",
      "\n",
      "2D Array:\n",
      "[[1 2 3]\n",
      " [4 5 6]]\n",
      "Data Type: int64\n",
      "Shape: (2, 3)\n",
      "Size: 6\n",
      "Strides: (24, 8)\n"
     ]
    }
   ],
   "source": [
    "# (i) Creating Different Types of NumPy Arrays and Displaying Basic Information\n",
    "import numpy as np\n",
    "\n",
    "# Create a 1D array\n",
    "array_1d = np.array([1, 2, 3, 4, 5])\n",
    "print(\"1D Array:\")\n",
    "print(array_1d)\n",
    "print(\"Data Type:\", array_1d.dtype)\n",
    "print(\"Shape:\", array_1d.shape)\n",
    "print(\"Size:\", array_1d.size)\n",
    "print(\"Strides:\", array_1d.strides)\n",
    "\n",
    "# Create a 2D array\n",
    "array_2d = np.array([[1, 2, 3], [4, 5, 6]])\n",
    "print(\"\\n2D Array:\")\n",
    "print(array_2d)\n",
    "print(\"Data Type:\", array_2d.dtype)\n",
    "print(\"Shape:\", array_2d.shape)\n",
    "print(\"Size:\", array_2d.size)\n",
    "print(\"Strides:\", array_2d.strides)\n"
   ]
  },
  {
   "cell_type": "code",
   "execution_count": 2,
   "id": "25c9a822-7f69-41a6-b5a1-e5e55432e3b1",
   "metadata": {},
   "outputs": [
    {
     "name": "stdout",
     "output_type": "stream",
     "text": [
      "\n",
      "Zeros Array:\n",
      "[[0. 0. 0. 0.]\n",
      " [0. 0. 0. 0.]\n",
      " [0. 0. 0. 0.]]\n",
      "\n",
      "Ones Array:\n",
      "[[1. 1. 1.]\n",
      " [1. 1. 1.]]\n",
      "\n",
      "Identity Matrix:\n",
      "[[1. 0. 0.]\n",
      " [0. 1. 0.]\n",
      " [0. 0. 1.]]\n"
     ]
    }
   ],
   "source": [
    "# (ii) Creating an Array Using Built-in NumPy Functions\n",
    "# Create an array with zeros\n",
    "zeros_array = np.zeros((3, 4))\n",
    "print(\"\\nZeros Array:\")\n",
    "print(zeros_array)\n",
    "\n",
    "# Create an array with ones\n",
    "ones_array = np.ones((2, 3))\n",
    "print(\"\\nOnes Array:\")\n",
    "print(ones_array)\n",
    "\n",
    "# Create an identity matrix\n",
    "identity_matrix = np.eye(3)\n",
    "print(\"\\nIdentity Matrix:\")\n",
    "print(identity_matrix)\n"
   ]
  },
  {
   "cell_type": "code",
   "execution_count": 3,
   "id": "0da2a3b4-079e-44c0-8ff7-0e29a77b3a43",
   "metadata": {},
   "outputs": [
    {
     "name": "stdout",
     "output_type": "stream",
     "text": [
      "\n",
      "Loaded Array from File:\n",
      "[[1 2 3]\n",
      " [4 5 6]]\n"
     ]
    }
   ],
   "source": [
    "# (iii) Performing File Operations with NumPy Arrays\n",
    "# Save array to a file\n",
    "np.save('array_file.npy', array_2d)\n",
    "\n",
    "# Load array from a file\n",
    "loaded_array = np.load('array_file.npy')\n",
    "print(\"\\nLoaded Array from File:\")\n",
    "print(loaded_array)\n"
   ]
  },
  {
   "cell_type": "code",
   "execution_count": 1,
   "id": "d8fda703-2598-4073-8b0f-2dce74e12334",
   "metadata": {},
   "outputs": [
    {
     "name": "stdout",
     "output_type": "stream",
     "text": [
      "Addition:\n",
      "[ 6  8 10 12]\n",
      "\n",
      "Subtraction:\n",
      "[-4 -4 -4 -4]\n",
      "\n",
      "Multiplication:\n",
      "[ 5 12 21 32]\n",
      "\n",
      "Division:\n",
      "[0.2        0.33333333 0.42857143 0.5       ]\n",
      "\n",
      "Square Root:\n",
      "[1.         1.41421356 1.73205081 2.        ]\n",
      "\n",
      "Exponentiation:\n",
      "[ 2.71828183  7.3890561  20.08553692 54.59815003]\n"
     ]
    }
   ],
   "source": [
    "# Arthimetic Oprations on Numpy Arrays : \n",
    "import numpy as np\n",
    "\n",
    "# Creating NumPy arrays\n",
    "arr1 = np.array([1, 2, 3, 4])\n",
    "arr2 = np.array([5, 6, 7, 8])\n",
    "\n",
    "# Addition\n",
    "result_addition = arr1 + arr2\n",
    "print(\"Addition:\")\n",
    "print(result_addition)\n",
    "\n",
    "# Subtraction\n",
    "result_subtraction = arr1 - arr2\n",
    "print(\"\\nSubtraction:\")\n",
    "print(result_subtraction)\n",
    "\n",
    "# Multiplication\n",
    "result_multiplication = arr1 * arr2\n",
    "print(\"\\nMultiplication:\")\n",
    "print(result_multiplication)\n",
    "\n",
    "# Division\n",
    "result_division = arr1 / arr2\n",
    "print(\"\\nDivision:\")\n",
    "print(result_division)\n",
    "\n",
    "# Element-wise square root\n",
    "result_sqrt = np.sqrt(arr1)\n",
    "print(\"\\nSquare Root:\")\n",
    "print(result_sqrt)\n",
    "\n",
    "# Element-wise exponentiation\n",
    "result_exp = np.exp(arr1)\n",
    "print(\"\\nExponentiation:\")\n",
    "print(result_exp)\n"
   ]
  },
  {
   "cell_type": "code",
   "execution_count": 2,
   "id": "fb31e410-f205-4d58-8414-9eb5b326cb23",
   "metadata": {},
   "outputs": [
    {
     "name": "stdout",
     "output_type": "stream",
     "text": [
      "\n",
      "Broadcasting:\n",
      "[3 4 5 6]\n"
     ]
    }
   ],
   "source": [
    "#  Broadcasting\n",
    "# Broadcasting example\n",
    "arr3 = np.array([2, 2, 2, 2])\n",
    "\n",
    "# Adding a scalar to an array\n",
    "result_broadcasting = arr1 + arr3\n",
    "print(\"\\nBroadcasting:\")\n",
    "print(result_broadcasting)\n"
   ]
  },
  {
   "cell_type": "code",
   "execution_count": null,
   "id": "ee8993f4-cab6-4890-b357-5bccde9ada9e",
   "metadata": {},
   "outputs": [],
   "source": []
  }
 ],
 "metadata": {
  "kernelspec": {
   "display_name": "Python 3 (ipykernel)",
   "language": "python",
   "name": "python3"
  },
  "language_info": {
   "codemirror_mode": {
    "name": "ipython",
    "version": 3
   },
   "file_extension": ".py",
   "mimetype": "text/x-python",
   "name": "python",
   "nbconvert_exporter": "python",
   "pygments_lexer": "ipython3",
   "version": "3.10.8"
  }
 },
 "nbformat": 4,
 "nbformat_minor": 5
}
