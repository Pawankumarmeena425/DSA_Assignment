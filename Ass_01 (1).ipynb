{
 "cells": [
  {
   "cell_type": "code",
   "execution_count": 1,
   "id": "a97db237-96e3-46b1-b3e3-835640a6ec9c",
   "metadata": {},
   "outputs": [
    {
     "name": "stdout",
     "output_type": "stream",
     "text": [
      "NumPy Array: [1 2 3 4 5]\n",
      "Optimal Solution: [-2.50000002]\n"
     ]
    }
   ],
   "source": [
    "# NumPy example\n",
    "import numpy as np\n",
    "arr = np.array([1, 2, 3, 4, 5])\n",
    "print(\"NumPy Array:\", arr)\n",
    "\n",
    "# SciPy example\n",
    "from scipy.optimize import minimize\n",
    "def objective_function(x):\n",
    "    return x**2 + 5*x + 6\n",
    "result = minimize(objective_function, x0=0)\n",
    "print(\"Optimal Solution:\", result.x)\n"
   ]
  },
  {
   "cell_type": "code",
   "execution_count": 2,
   "id": "41cc76ec-7a1e-4f51-b816-c5368d019410",
   "metadata": {},
   "outputs": [
    {
     "name": "stdout",
     "output_type": "stream",
     "text": [
      "Linear Regression Results:\n",
      "                            OLS Regression Results                            \n",
      "==============================================================================\n",
      "Dep. Variable:                    mpg   R-squared:                       0.753\n",
      "Model:                            OLS   Adj. R-squared:                  0.745\n",
      "Method:                 Least Squares   F-statistic:                     91.38\n",
      "Date:                Mon, 27 Nov 2023   Prob (F-statistic):           1.29e-10\n",
      "Time:                        07:17:09   Log-Likelihood:                -80.015\n",
      "No. Observations:                  32   AIC:                             164.0\n",
      "Df Residuals:                      30   BIC:                             167.0\n",
      "Df Model:                           1                                         \n",
      "Covariance Type:            nonrobust                                         \n",
      "==============================================================================\n",
      "                 coef    std err          t      P>|t|      [0.025      0.975]\n",
      "------------------------------------------------------------------------------\n",
      "const         37.2851      1.878     19.858      0.000      33.450      41.120\n",
      "wt            -5.3445      0.559     -9.559      0.000      -6.486      -4.203\n",
      "==============================================================================\n",
      "Omnibus:                        2.988   Durbin-Watson:                   1.252\n",
      "Prob(Omnibus):                  0.225   Jarque-Bera (JB):                2.399\n",
      "Skew:                           0.668   Prob(JB):                        0.301\n",
      "Kurtosis:                       2.877   Cond. No.                         12.7\n",
      "==============================================================================\n",
      "\n",
      "Notes:\n",
      "[1] Standard Errors assume that the covariance matrix of the errors is correctly specified.\n"
     ]
    }
   ],
   "source": [
    "# Statsmodels example\n",
    "import statsmodels.api as sm\n",
    "import pandas as pd\n",
    "\n",
    "# Load sample dataset\n",
    "data = sm.datasets.get_rdataset('mtcars').data\n",
    "\n",
    "# Fit linear regression model\n",
    "model = sm.OLS(data['mpg'], sm.add_constant(data['wt'])).fit()\n",
    "print(\"Linear Regression Results:\")\n",
    "print(model.summary())\n"
   ]
  },
  {
   "cell_type": "code",
   "execution_count": 3,
   "id": "6b443d21-dd82-4f16-b141-2db54c0f444b",
   "metadata": {},
   "outputs": [
    {
     "name": "stdout",
     "output_type": "stream",
     "text": [
      "DataFrame:\n",
      "      Name  Age           City\n",
      "0    Alice   25       New York\n",
      "1      Bob   30  San Francisco\n",
      "2  Charlie   22    Los Angeles\n",
      "\n",
      "Filtered Data:\n",
      "  Name  Age           City\n",
      "1  Bob   30  San Francisco\n"
     ]
    }
   ],
   "source": [
    "# Pandas example\n",
    "import pandas as pd\n",
    "\n",
    "# Create a DataFrame\n",
    "data = {'Name': ['Alice', 'Bob', 'Charlie'],\n",
    "        'Age': [25, 30, 22],\n",
    "        'City': ['New York', 'San Francisco', 'Los Angeles']}\n",
    "df = pd.DataFrame(data)\n",
    "\n",
    "# Display DataFrame and perform basic operations\n",
    "print(\"DataFrame:\")\n",
    "print(df)\n",
    "print(\"\\nFiltered Data:\")\n",
    "print(df[df['Age'] > 25])\n"
   ]
  },
  {
   "cell_type": "code",
   "execution_count": null,
   "id": "d1a699ce-66c9-4b04-879a-1e9e6e81e9fa",
   "metadata": {},
   "outputs": [],
   "source": []
  }
 ],
 "metadata": {
  "kernelspec": {
   "display_name": "Python 3 (ipykernel)",
   "language": "python",
   "name": "python3"
  },
  "language_info": {
   "codemirror_mode": {
    "name": "ipython",
    "version": 3
   },
   "file_extension": ".py",
   "mimetype": "text/x-python",
   "name": "python",
   "nbconvert_exporter": "python",
   "pygments_lexer": "ipython3",
   "version": "3.10.8"
  }
 },
 "nbformat": 4,
 "nbformat_minor": 5
}
